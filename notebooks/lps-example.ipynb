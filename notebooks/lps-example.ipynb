{
 "cells": [
  {
   "cell_type": "markdown",
   "metadata": {},
   "source": [
    "# Generate input files for VASP core-hole potential calculations\n",
    "\n",
    "The class `CHPCalculation` can be used to generate VASP input files for XAS simulations with the supercell core-hole approach [1].  See the [VASP Wiki](https://www.vasp.at/wiki/index.php/XAS_theory) for further details.  In the example below, Pymatgen [2] is used to read an input structure of a lithium thiophosphate with composition Li$_7$P$_3$S$_{11}$.  Pymatgen is also used internally to write out VASP input files.\n",
    "\n",
    "[1] F. Karsai, M. Humer, E. Flage-Larsen, P. Blaha and G. Kresse, [*Phys. Rev. B* **98**, 235205 (2018)](https://journals.aps.org/prb/abstract/10.1103/PhysRevB.98.235205).<br/>\n",
    "[2] S. P. Ong et al., [*Comput. Mater. Sci.* **68**, 314–319 (2013)](https://doi.org/10.1016/j.commatsci.2012.10.028)."
   ]
  },
  {
   "cell_type": "code",
   "execution_count": 1,
   "metadata": {
    "inputHidden": false,
    "jupyter": {
     "outputs_hidden": false
    },
    "outputHidden": false
   },
   "outputs": [
    {
     "name": "stderr",
     "output_type": "stream",
     "text": [
      "/Users/aurban/code/matgen/pymatgen/pymatgen/ext/matproj.py:454: FutureWarning: __init__ is deprecated\n",
      "MaterialsProjectCompatibility will be updated with new correction classes as well as new values of corrections and uncertainties in 2020\n",
      "  def get_pourbaix_entries(self, chemsys, solid_compat=MaterialsProjectCompatibility()):\n"
     ]
    }
   ],
   "source": [
    "import pymatgen as mg\n",
    "struc = mg.Structure.from_file(\"./data/CONTCAR_Li7P3S11\")"
   ]
  },
  {
   "cell_type": "markdown",
   "metadata": {},
   "source": [
    "We initialize a core-hole potential calculation for the sulfur K edge (quantum numbers $n=1, \\ell = 0$) and a full core hole ($z = 1.0$ electron)."
   ]
  },
  {
   "cell_type": "code",
   "execution_count": 2,
   "metadata": {
    "jupyter": {
     "outputs_hidden": false,
     "source_hidden": false
    },
    "nteract": {
     "transient": {
      "deleting": false
     }
    }
   },
   "outputs": [],
   "source": [
    "from xas_tools.vasp import CHPCalculation\n",
    "chp = CHPCalculation(struc, element=\"S\", n=1, ell=0, z=1.0)"
   ]
  },
  {
   "cell_type": "markdown",
   "metadata": {},
   "source": [
    "For the VASP calculation, we create a $1\\times{}2\\times1$ supercell.  The number of bands is set to twice the number of electrons.  And an explicit path for the generated input files is specified.\n",
    "\n",
    "**Note:** Pymatgen needs to be set-up correctly for this to work.  Specifically, the location of the pseudopotential files needs to be known to Pymatgen.\n",
    "\n",
    "**Also note:** The method `write_vasp_input` accepts a number of optional arguments, for example, for parallelization and to specify different VASP input sets.  The default input set sets up calculations within the local density approximation (LDA)."
   ]
  },
  {
   "cell_type": "code",
   "execution_count": 3,
   "metadata": {},
   "outputs": [
    {
     "name": "stdout",
     "output_type": "stream",
     "text": [
      "\u001b[34mXAS_input_01_1\u001b[m\u001b[m/ \u001b[34mXAS_input_03_1\u001b[m\u001b[m/ \u001b[34mXAS_input_05_1\u001b[m\u001b[m/ \u001b[34mXAS_input_07_1\u001b[m\u001b[m/ \u001b[34mXAS_input_09_1\u001b[m\u001b[m/ \u001b[34mXAS_input_11_1\u001b[m\u001b[m/ metadata.json\n",
      "\u001b[34mXAS_input_02_1\u001b[m\u001b[m/ \u001b[34mXAS_input_04_1\u001b[m\u001b[m/ \u001b[34mXAS_input_06_1\u001b[m\u001b[m/ \u001b[34mXAS_input_08_1\u001b[m\u001b[m/ \u001b[34mXAS_input_10_1\u001b[m\u001b[m/ \u001b[34mXAS_input_SCF\u001b[m\u001b[m/\n",
      "INCAR    KPOINTS  POSCAR   POTCAR\n"
     ]
    }
   ],
   "source": [
    "chp.write_vasp_input(supercell=(1,2,1), band_multiple=2, path='Li7P3S11_chp_input')\n",
    "%ls ./Li7P3S11_chp_input\n",
    "%ls ./Li7P3S11_chp_input/XAS_input_01_1"
   ]
  },
  {
   "cell_type": "markdown",
   "metadata": {},
   "source": [
    "Each generated subdirectory contains all input files that are needed for VASP calculations. The directory named `XAS_input_SCF` contains input files for a ground-state calculation without core hole.  Note that the generated files are not shared in the GitHub repository because the pseudopotential files that require a VASP license.  Additional information is stored in the file `metadata.json`:"
   ]
  },
  {
   "cell_type": "code",
   "execution_count": 4,
   "metadata": {},
   "outputs": [
    {
     "name": "stdout",
     "output_type": "stream",
     "text": [
      "{\n",
      "    \"active_atom_types\": [\n",
      "        1,\n",
      "        2,\n",
      "        3,\n",
      "        4,\n",
      "        5,\n",
      "        6,\n",
      "        7,\n",
      "        8,\n",
      "        9,\n",
      "        10,\n",
      "        11\n",
      "    ],\n",
      "    \"angular_quantum_number\": 0,\n",
      "    \"band_multiple\": 2,\n",
      "    \"corehole_electron_count\": 1.0,\n",
      "    \"grid_points\": 40000,\n",
      "    \"main_quantum_number\": 1,\n",
      "    \"multiplicity\": [\n",
      "        1,\n",
      "        1,\n",
      "        1,\n",
      "        1,\n",
      "        1,\n",
      "        1,\n",
      "        1,\n",
      "        1,\n",
      "        1,\n",
      "        1,\n",
      "        1\n",
      "    ],\n",
      "    \"smearing\": 0.05,\n",
      "    \"supercell\": [\n",
      "        1,\n",
      "        2,\n",
      "        1\n",
      "    ],\n",
      "    \"valence_electrons\": 352,\n",
      "    \"xas_element\": \"S\"\n",
      "}\n"
     ]
    }
   ],
   "source": [
    "import json\n",
    "with open('./Li7P3S11_chp_input/metadata.json') as fp:\n",
    "    metadata = json.load(fp)\n",
    "print(json.dumps(metadata, indent=4, sort_keys=True))"
   ]
  },
  {
   "cell_type": "markdown",
   "metadata": {},
   "source": [
    "The structure does not exhibit symmetry, so that one calculation per S atom needs to be performed.  In the case of symmetric structures, the multiplicity of each equivalent atom is determined automatically.  In the following example, the first S atom has a multiplicity of 2."
   ]
  },
  {
   "cell_type": "code",
   "execution_count": 5,
   "metadata": {},
   "outputs": [
    {
     "name": "stdout",
     "output_type": "stream",
     "text": [
      "\u001b[34mXAS_input_1_2\u001b[m\u001b[m/ \u001b[34mXAS_input_2_1\u001b[m\u001b[m/ \u001b[34mXAS_input_3_1\u001b[m\u001b[m/ \u001b[34mXAS_input_SCF\u001b[m\u001b[m/ metadata.json\n",
      "{\"xas_element\": \"S\", \"valence_electrons\": 128, \"supercell\": [1, 2, 1], \"band_multiple\": 2, \"grid_points\": 40000, \"smearing\": 0.05, \"main_quantum_number\": 1, \"angular_quantum_number\": 0, \"corehole_electron_count\": 1.0, \"active_atom_types\": [1, 2, 3], \"multiplicity\": [2, 1, 1]}"
     ]
    }
   ],
   "source": [
    "struc2 = mg.Structure.from_file(\"./data/CONTCAR_Li3PS4\")\n",
    "chp2 = CHPCalculation(struc2, element=\"S\", n=1, ell=0, z=1.0)\n",
    "chp2.write_vasp_input(supercell=(1,2,1), band_multiple=2, path='Li3PS4_chp_input')\n",
    "%ls ./Li3PS4_chp_input\n",
    "%cat ./Li3PS4_chp_input/metadata.json"
   ]
  },
  {
   "cell_type": "markdown",
   "metadata": {},
   "source": [
    "# Process output from VASP CHP calculations\n",
    "\n",
    "Postprocessing steps\n",
    "\n",
    "- Extract the XAS data from the OUTCAR files (imaginary part of the dielectric function)\n",
    "- Align the XAS spectra by applying the shift $(E_{\\mathrm{tot}}^{\\mathrm{ch}} - E_{\\mathrm{tot}}^{\\mathrm{no ch}})$"
   ]
  },
  {
   "cell_type": "code",
   "execution_count": null,
   "metadata": {},
   "outputs": [],
   "source": [
    "from xas_tools.vasp import parse_vasp_chp_output"
   ]
  },
  {
   "cell_type": "markdown",
   "metadata": {},
   "source": [
    "The following line extracts and postprocesses the XAS lines from all subdirectories with CHP calculations.  For each XAS line, a CSV file will be generated.  Additionally, a JSON file named `metadata.json` will be created that contains additional details of the calculation."
   ]
  },
  {
   "cell_type": "code",
   "execution_count": null,
   "metadata": {},
   "outputs": [],
   "source": [
    "parse_vasp_chp_output('./data/Li7P3S11')"
   ]
  },
  {
   "cell_type": "markdown",
   "metadata": {},
   "source": [
    "# Visualization and analysis"
   ]
  },
  {
   "cell_type": "code",
   "execution_count": null,
   "metadata": {},
   "outputs": [],
   "source": [
    "from xas_tools.spectra import AbsorptionSpectrum"
   ]
  },
  {
   "cell_type": "code",
   "execution_count": null,
   "metadata": {},
   "outputs": [],
   "source": [
    "spectrum = AbsorptionSpectrum('XAS_output/structure_1')\n",
    "spectrum.plot_atomic_lines();"
   ]
  },
  {
   "cell_type": "code",
   "execution_count": null,
   "metadata": {},
   "outputs": [],
   "source": [
    "# broadening of the calculated spectra\n",
    "gauss = 0.3  # FWHM for Gaussian broadening\n",
    "lorentz = [0.1, 0.5]  # linearly increasing FWHM for Lorentzian broadening\n",
    "spectrum.calculated_broadened(gauss, lorentz[0], lorentz[1], \n",
    "                              energy_range=(None, 2420), dE=2.0, n=200)"
   ]
  },
  {
   "cell_type": "code",
   "execution_count": null,
   "metadata": {},
   "outputs": [],
   "source": [
    "fig, ax = spectrum.plot_broadened()\n",
    "ax.set_xlim(2406.0, 2417)\n",
    "import matplotlib.pyplot as plt\n",
    "plt.savefig(\"Li7P3S11.pdf\", bbox_inches='tight')"
   ]
  },
  {
   "cell_type": "code",
   "execution_count": null,
   "metadata": {},
   "outputs": [],
   "source": []
  }
 ],
 "metadata": {
  "kernel_info": {
   "name": "python3"
  },
  "kernelspec": {
   "display_name": "Python 3",
   "language": "python",
   "name": "python3"
  },
  "language_info": {
   "codemirror_mode": {
    "name": "ipython",
    "version": 3
   },
   "file_extension": ".py",
   "mimetype": "text/x-python",
   "name": "python",
   "nbconvert_exporter": "python",
   "pygments_lexer": "ipython3",
   "version": "3.8.8"
  },
  "nteract": {
   "version": "0.28.0"
  }
 },
 "nbformat": 4,
 "nbformat_minor": 4
}
