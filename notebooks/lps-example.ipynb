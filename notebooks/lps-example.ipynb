{
  "cells": [
    {
      "cell_type": "code",
      "source": [
        "import pymatgen as mg\n",
        "from xas_tools.vasp import CHPCalculation"
      ],
      "outputs": [],
      "execution_count": 2,
      "metadata": {
        "collapsed": false,
        "outputHidden": false,
        "inputHidden": false,
        "execution": {
          "iopub.status.busy": "2021-03-25T00:43:42.543Z",
          "iopub.execute_input": "2021-03-25T00:43:42.547Z",
          "iopub.status.idle": "2021-03-25T00:43:42.551Z",
          "shell.execute_reply": "2021-03-25T00:43:42.555Z"
        }
      }
    },
    {
      "cell_type": "code",
      "source": [
        "struc = mg.Structure.from_file(\"./data/CONTCAR-Li3PS4\")\n",
        "chp = CHPCalculation(struc)\n",
        "print(chp.equivalent_atoms)\n",
        "print(chp.structure)"
      ],
      "outputs": [
        {
          "output_type": "stream",
          "name": "stdout",
          "text": [
            "[[8, 9, 11, 10], [12, 13], [14, 15]]\n",
            "Full Formula (Li6 P2 S8)\n",
            "Reduced Formula: Li3PS4\n",
            "abc   :   7.772889   6.618647   6.225057\n",
            "angles:  90.000007  89.999982  90.000048\n",
            "Sites (16)\n",
            "  #  SP            a         b          c    ch_select\n",
            "---  ----  ---------  --------  ---------  -----------\n",
            "  0  Li     0.243562  0.316856  -2.8e-05             0\n",
            "  1  Li     0.256438  0.683144   0.499972            0\n",
            "  2  Li     0.743561  0.683143   0.499972            0\n",
            "  3  Li     0.756439  0.316857  -2.8e-05             0\n",
            "  4  Li    -0         0.143342   0.492052            0\n",
            "  5  Li     0.5       0.856658   0.992052            0\n",
            "  6  P      0         0.81839    0.000824            0\n",
            "  7  P      0.499999  0.18161    0.500824            0\n",
            "  8  S      0.218029  0.673786   0.891454            1\n",
            "  9  S      0.281969  0.326215   0.391453            1\n",
            " 10  S      0.718031  0.326215   0.391453            1\n",
            " 11  S      0.781971  0.673786   0.891454            1\n",
            " 12  S      0         0.112081   0.891336            2\n",
            " 13  S      0.5       0.887917   0.391335            2\n",
            " 14  S     -0         0.808668   0.332086            3\n",
            " 15  S      0.5       0.191332   0.832088            3\n"
          ]
        }
      ],
      "execution_count": 3,
      "metadata": {
        "collapsed": false,
        "jupyter": {
          "source_hidden": false,
          "outputs_hidden": false
        },
        "nteract": {
          "transient": {
            "deleting": false
          }
        },
        "execution": {
          "iopub.status.busy": "2021-03-25T00:43:44.046Z",
          "iopub.execute_input": "2021-03-25T00:43:44.048Z",
          "iopub.status.idle": "2021-03-25T00:43:44.070Z",
          "shell.execute_reply": "2021-03-25T00:43:44.077Z"
        }
      }
    },
    {
      "cell_type": "code",
      "source": [
        "chp.write_vasp_input(\"./vasp\")"
      ],
      "outputs": [
        {
          "output_type": "error",
          "ename": "NotImplementedError",
          "evalue": "Input file generation is not yet implemented.",
          "traceback": [
            "\u001b[0;31m---------------------------------------------------------------------------\u001b[0m",
            "\u001b[0;31mNotImplementedError\u001b[0m                       Traceback (most recent call last)",
            "\u001b[0;32m<ipython-input-4-e6f77fdc2572>\u001b[0m in \u001b[0;36m<module>\u001b[0;34m\u001b[0m\n\u001b[0;32m----> 1\u001b[0;31m \u001b[0mchp\u001b[0m\u001b[0;34m.\u001b[0m\u001b[0mwrite_vasp_input\u001b[0m\u001b[0;34m(\u001b[0m\u001b[0;34m\"./vasp\"\u001b[0m\u001b[0;34m)\u001b[0m\u001b[0;34m\u001b[0m\u001b[0;34m\u001b[0m\u001b[0m\n\u001b[0m",
            "\u001b[0;32m~/code/xas-tools/xas_tools/vasp.py\u001b[0m in \u001b[0;36mwrite_vasp_input\u001b[0;34m(self, path)\u001b[0m\n\u001b[1;32m     81\u001b[0m \u001b[0;34m\u001b[0m\u001b[0m\n\u001b[1;32m     82\u001b[0m         \"\"\"\n\u001b[0;32m---> 83\u001b[0;31m         raise NotImplementedError(\n\u001b[0m\u001b[1;32m     84\u001b[0m             \"Input file generation is not yet implemented.\")\n",
            "\u001b[0;31mNotImplementedError\u001b[0m: Input file generation is not yet implemented."
          ]
        }
      ],
      "execution_count": 4,
      "metadata": {
        "collapsed": true,
        "jupyter": {
          "source_hidden": false,
          "outputs_hidden": false
        },
        "nteract": {
          "transient": {
            "deleting": false
          }
        },
        "execution": {
          "iopub.status.busy": "2021-03-25T00:43:45.359Z",
          "iopub.execute_input": "2021-03-25T00:43:45.362Z"
        }
      }
    },
    {
      "cell_type": "code",
      "source": [],
      "outputs": [],
      "execution_count": null,
      "metadata": {
        "collapsed": true,
        "jupyter": {
          "source_hidden": false,
          "outputs_hidden": false
        },
        "nteract": {
          "transient": {
            "deleting": false
          }
        }
      }
    }
  ],
  "metadata": {
    "kernel_info": {
      "name": "python3"
    },
    "language_info": {
      "name": "python",
      "version": "3.8.3",
      "mimetype": "text/x-python",
      "codemirror_mode": {
        "name": "ipython",
        "version": 3
      },
      "pygments_lexer": "ipython3",
      "nbconvert_exporter": "python",
      "file_extension": ".py"
    },
    "kernelspec": {
      "name": "python3",
      "language": "python",
      "display_name": "Python 3"
    },
    "nteract": {
      "version": "0.28.0"
    }
  },
  "nbformat": 4,
  "nbformat_minor": 0
}